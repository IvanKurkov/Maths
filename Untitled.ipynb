{
 "cells": [
  {
   "cell_type": "code",
   "execution_count": 2,
   "id": "d66cb13f",
   "metadata": {},
   "outputs": [],
   "source": [
    "import numpy as np\n",
    "import matplotlib.pyplot as plt"
   ]
  },
  {
   "cell_type": "code",
   "execution_count": 3,
   "id": "16c31462",
   "metadata": {},
   "outputs": [],
   "source": [
    "a = np.eye(5)"
   ]
  },
  {
   "cell_type": "code",
   "execution_count": 4,
   "id": "d05f0f3a",
   "metadata": {},
   "outputs": [],
   "source": [
    "b =a*5"
   ]
  },
  {
   "cell_type": "code",
   "execution_count": 5,
   "id": "96d7cafa",
   "metadata": {},
   "outputs": [
    {
     "data": {
      "text/plain": [
       "array([[ 0.2,  0. ,  0. ,  0. ,  0. ],\n",
       "       [ 0. ,  0.2,  0. ,  0. ,  0. ],\n",
       "       [ 0. ,  0. ,  0.2,  0. ,  0. ],\n",
       "       [-0. , -0. , -0. ,  0.2, -0. ],\n",
       "       [ 0. ,  0. ,  0. ,  0. ,  0.2]])"
      ]
     },
     "execution_count": 5,
     "metadata": {},
     "output_type": "execute_result"
    }
   ],
   "source": [
    "np.linalg.inv(b)"
   ]
  },
  {
   "cell_type": "code",
   "execution_count": 6,
   "id": "e7b111da",
   "metadata": {},
   "outputs": [],
   "source": [
    "c = np.array([[7,1.5,3],[1,5,0],[2,8,7]])"
   ]
  },
  {
   "cell_type": "code",
   "execution_count": 7,
   "id": "d93c6d35",
   "metadata": {},
   "outputs": [
    {
     "data": {
      "text/plain": [
       "228.49999999999986"
      ]
     },
     "execution_count": 7,
     "metadata": {},
     "output_type": "execute_result"
    }
   ],
   "source": [
    "np.linalg.det(c)"
   ]
  },
  {
   "cell_type": "code",
   "execution_count": 8,
   "id": "c7f81a50",
   "metadata": {},
   "outputs": [],
   "source": [
    "d = np.linalg.inv(c)"
   ]
  },
  {
   "cell_type": "code",
   "execution_count": 9,
   "id": "a8f4e50f",
   "metadata": {},
   "outputs": [
    {
     "data": {
      "text/plain": [
       "array([[ 0.15317287,  0.05908096, -0.06564551],\n",
       "       [-0.03063457,  0.18818381,  0.0131291 ],\n",
       "       [-0.00875274, -0.23194748,  0.14660832]])"
      ]
     },
     "execution_count": 9,
     "metadata": {},
     "output_type": "execute_result"
    }
   ],
   "source": [
    "d"
   ]
  },
  {
   "cell_type": "code",
   "execution_count": 10,
   "id": "9349b102",
   "metadata": {},
   "outputs": [],
   "source": [
    "z = np.array([[-0.8, 0.1, 0.2],[0.1, -0.2 , 0.1],[0.53333333, 0.1 , -0.133333333 ]])"
   ]
  },
  {
   "cell_type": "code",
   "execution_count": 11,
   "id": "bef38419",
   "metadata": {},
   "outputs": [
    {
     "data": {
      "text/plain": [
       "array([[-3.85000001,  0.7       ,  1.15      ],\n",
       "       [-0.3       , -0.9       ,  0.7       ],\n",
       "       [ 2.93333331, -0.7       ,  0.26666667]])"
      ]
     },
     "execution_count": 11,
     "metadata": {},
     "output_type": "execute_result"
    }
   ],
   "source": [
    "c@z"
   ]
  },
  {
   "cell_type": "code",
   "execution_count": 12,
   "id": "8a7dad6e",
   "metadata": {},
   "outputs": [],
   "source": [
    "a= np.array([1,5,0])"
   ]
  },
  {
   "cell_type": "code",
   "execution_count": 13,
   "id": "c10e2139",
   "metadata": {},
   "outputs": [],
   "source": [
    "b= np.array([2,8,7])"
   ]
  },
  {
   "cell_type": "code",
   "execution_count": 14,
   "id": "316b0c01",
   "metadata": {},
   "outputs": [],
   "source": [
    "c= np.array([7,1.5,3])"
   ]
  },
  {
   "cell_type": "code",
   "execution_count": 15,
   "id": "fa705334",
   "metadata": {},
   "outputs": [],
   "source": [
    "z = np.dot(a,b)"
   ]
  },
  {
   "cell_type": "code",
   "execution_count": 16,
   "id": "31a0e63c",
   "metadata": {},
   "outputs": [
    {
     "data": {
      "text/plain": [
       "483.0"
      ]
     },
     "execution_count": 16,
     "metadata": {},
     "output_type": "execute_result"
    }
   ],
   "source": [
    "z*11.5"
   ]
  },
  {
   "cell_type": "code",
   "execution_count": 17,
   "id": "ac420099",
   "metadata": {},
   "outputs": [],
   "source": [
    "c = np.array([[1,2,-1],[3,-4,0],[8,-5,2],[2,0,-5],[11,4,-7]])"
   ]
  },
  {
   "cell_type": "code",
   "execution_count": 18,
   "id": "8f3b016b",
   "metadata": {},
   "outputs": [],
   "source": [
    "b = np.array([1,7,12,7,15])"
   ]
  },
  {
   "cell_type": "code",
   "execution_count": 19,
   "id": "69cace11",
   "metadata": {},
   "outputs": [
    {
     "name": "stderr",
     "output_type": "stream",
     "text": [
      "<ipython-input-19-62e9f5d835a0>:1: FutureWarning: `rcond` parameter will change to the default of machine precision times ``max(M, N)`` where M and N are the input matrix dimensions.\n",
      "To use the future default and silence this warning we advise to pass `rcond=None`, to keep using the old, explicitly pass `rcond=-1`.\n",
      "  np.linalg.lstsq(c,b)\n"
     ]
    },
    {
     "data": {
      "text/plain": [
       "(array([ 1.13919353, -0.90498444, -0.9009803 ]),\n",
       " array([0.71523211]),\n",
       " 3,\n",
       " array([15.2817306 ,  9.59852942,  3.65197794]))"
      ]
     },
     "execution_count": 19,
     "metadata": {},
     "output_type": "execute_result"
    }
   ],
   "source": [
    "np.linalg.lstsq(c,b)"
   ]
  },
  {
   "cell_type": "code",
   "execution_count": null,
   "id": "7345ec29",
   "metadata": {},
   "outputs": [],
   "source": []
  },
  {
   "cell_type": "code",
   "execution_count": 20,
   "id": "e5195cad",
   "metadata": {},
   "outputs": [],
   "source": [
    "A = np.array([[1, 2, 3], [4, 5, 6], [7, 8, 9]])\n",
    "B = np.array([[4, 5, 60]])\n"
   ]
  },
  {
   "cell_type": "code",
   "execution_count": 107,
   "id": "edd86e8d",
   "metadata": {},
   "outputs": [],
   "source": [
    "x = np.linspace(0,50,51)"
   ]
  },
  {
   "cell_type": "code",
   "execution_count": 108,
   "id": "5f7c70b4",
   "metadata": {},
   "outputs": [],
   "source": [
    "y = x**2"
   ]
  },
  {
   "cell_type": "code",
   "execution_count": 109,
   "id": "60d2860d",
   "metadata": {},
   "outputs": [
    {
     "data": {
      "text/plain": [
       "array([0.000e+00, 1.000e+00, 4.000e+00, 9.000e+00, 1.600e+01, 2.500e+01,\n",
       "       3.600e+01, 4.900e+01, 6.400e+01, 8.100e+01, 1.000e+02, 1.210e+02,\n",
       "       1.440e+02, 1.690e+02, 1.960e+02, 2.250e+02, 2.560e+02, 2.890e+02,\n",
       "       3.240e+02, 3.610e+02, 4.000e+02, 4.410e+02, 4.840e+02, 5.290e+02,\n",
       "       5.760e+02, 6.250e+02, 6.760e+02, 7.290e+02, 7.840e+02, 8.410e+02,\n",
       "       9.000e+02, 9.610e+02, 1.024e+03, 1.089e+03, 1.156e+03, 1.225e+03,\n",
       "       1.296e+03, 1.369e+03, 1.444e+03, 1.521e+03, 1.600e+03, 1.681e+03,\n",
       "       1.764e+03, 1.849e+03, 1.936e+03, 2.025e+03, 2.116e+03, 2.209e+03,\n",
       "       2.304e+03, 2.401e+03, 2.500e+03])"
      ]
     },
     "execution_count": 109,
     "metadata": {},
     "output_type": "execute_result"
    }
   ],
   "source": [
    "y"
   ]
  },
  {
   "cell_type": "code",
   "execution_count": 101,
   "id": "8024d01e",
   "metadata": {},
   "outputs": [
    {
     "data": {
      "text/plain": [
       "[<matplotlib.lines.Line2D at 0x279f0f8f760>]"
      ]
     },
     "execution_count": 101,
     "metadata": {},
     "output_type": "execute_result"
    },
    {
     "data": {
      "image/png": "[encoded data removed]",
      "text/plain": [
       "<Figure size 432x288 with 1 Axes>"
      ]
     },
     "metadata": {
      "needs_background": "light"
     },
     "output_type": "display_data"
    }
   ],
   "source": [
    "plt.plot(x,y)"
   ]
  },
  {
   "cell_type": "code",
   "execution_count": 90,
   "id": "1eb14cb5",
   "metadata": {},
   "outputs": [
    {
     "data": {
      "text/plain": [
       "array([ 1.        ,  2.31578947,  3.63157895,  4.94736842,  6.26315789,\n",
       "        7.57894737,  8.89473684, 10.21052632, 11.52631579, 12.84210526,\n",
       "       14.15789474, 15.47368421, 16.78947368, 18.10526316, 19.42105263,\n",
       "       20.73684211, 22.05263158, 23.36842105, 24.68421053, 26.        ,\n",
       "       26.        , 26.52631579, 27.05263158, 27.57894737, 28.10526316,\n",
       "       28.63157895, 29.15789474, 29.68421053, 30.21052632, 30.73684211,\n",
       "       31.26315789, 31.78947368, 32.31578947, 32.84210526, 33.36842105,\n",
       "       33.89473684, 34.42105263, 34.94736842, 35.47368421, 36.        ,\n",
       "       36.        , 35.28571429, 34.57142857, 33.85714286, 33.14285714,\n",
       "       32.42857143, 31.71428571, 31.        , 30.28571429, 29.57142857,\n",
       "       28.85714286, 28.14285714, 27.42857143, 26.71428571, 26.        ,\n",
       "       25.28571429, 24.57142857, 23.85714286, 23.14285714, 22.42857143,\n",
       "       21.71428571, 21.        , 20.28571429, 19.57142857, 18.85714286,\n",
       "       18.14285714, 17.42857143, 16.71428571, 16.        , 15.28571429,\n",
       "       14.57142857, 13.85714286, 13.14285714, 12.42857143, 11.71428571,\n",
       "       11.        , 10.28571429,  9.57142857,  8.85714286,  8.14285714,\n",
       "        7.42857143,  6.71428571,  6.        ,  5.28571429,  4.57142857,\n",
       "        3.85714286,  3.14285714,  2.42857143,  1.71428571,  1.        ])"
      ]
     },
     "execution_count": 90,
     "metadata": {},
     "output_type": "execute_result"
    }
   ],
   "source": [
    "x"
   ]
  },
  {
   "cell_type": "code",
   "execution_count": 112,
   "id": "e27e40be",
   "metadata": {},
   "outputs": [
    {
     "name": "stdout",
     "output_type": "stream",
     "text": [
      "2*x\n"
     ]
    }
   ],
   "source": [
    "from sympy import *\n",
    "import numpy as np\n",
    "\n",
    "x = Symbol('x')\n",
    "y = x**2 + 1\n",
    "\n",
    "yprime = y.diff(x)\n",
    "print(yprime)"
   ]
  },
  {
   "cell_type": "code",
   "execution_count": 52,
   "id": "5f2dd786",
   "metadata": {},
   "outputs": [],
   "source": [
    "x = np.array([2,3,5,7,8,10,14,15,10,23])\n",
    "y = np.array([4,22,32,38,55,77,144, 150 ,100,200,]) \n",
    "z = np.log(y)/np.log(x)"
   ]
  },
  {
   "cell_type": "code",
   "execution_count": 53,
   "id": "1eb2e500",
   "metadata": {},
   "outputs": [
    {
     "data": {
      "text/plain": [
       "array([2.        , 2.81358809, 2.15338279, 1.8693495 , 1.9271199 ,\n",
       "       1.88649073, 1.88317747, 1.85027415, 2.        , 1.689787  ])"
      ]
     },
     "execution_count": 53,
     "metadata": {},
     "output_type": "execute_result"
    }
   ],
   "source": [
    "z"
   ]
  },
  {
   "cell_type": "code",
   "execution_count": 59,
   "id": "dc62c2ea",
   "metadata": {},
   "outputs": [
    {
     "data": {
      "text/plain": [
       "(1.906805314840351, 2.007316963218639)"
      ]
     },
     "execution_count": 59,
     "metadata": {},
     "output_type": "execute_result"
    }
   ],
   "source": [
    "np.median(z), z.mean()"
   ]
  },
  {
   "cell_type": "code",
   "execution_count": 55,
   "id": "a5d8f747",
   "metadata": {},
   "outputs": [
    {
     "data": {
      "text/plain": [
       "[<matplotlib.lines.Line2D at 0x16dc7c0d640>]"
      ]
     },
     "execution_count": 55,
     "metadata": {},
     "output_type": "execute_result"
    },
    {
     "data": {
      "image/png": "[encoded data removed]",
      "text/plain": [
       "<Figure size 432x288 with 1 Axes>"
      ]
     },
     "metadata": {
      "needs_background": "light"
     },
     "output_type": "display_data"
    }
   ],
   "source": [
    "plt.plot(x,y)"
   ]
  },
  {
   "cell_type": "code",
   "execution_count": 60,
   "id": "8f5dae8a",
   "metadata": {},
   "outputs": [],
   "source": [
    "w = x**2.07"
   ]
  },
  {
   "cell_type": "code",
   "execution_count": 61,
   "id": "0ce1bfaf",
   "metadata": {},
   "outputs": [
    {
     "data": {
      "text/plain": [
       "[<matplotlib.lines.Line2D at 0x16dc7cbbf70>]"
      ]
     },
     "execution_count": 61,
     "metadata": {},
     "output_type": "execute_result"
    },
    {
     "data": {
      "image/png": "[encoded data removed]",
      "text/plain": [
       "<Figure size 432x288 with 1 Axes>"
      ]
     },
     "metadata": {
      "needs_background": "light"
     },
     "output_type": "display_data"
    }
   ],
   "source": [
    "plt.plot(x,w)"
   ]
  },
  {
   "cell_type": "code",
   "execution_count": null,
   "id": "40a01dd7",
   "metadata": {},
   "outputs": [],
   "source": []
  }
 ],
 "metadata": {
  "kernelspec": {
   "display_name": "Python 3",
   "language": "python",
   "name": "python3"
  },
  "language_info": {
   "codemirror_mode": {
    "name": "ipython",
    "version": 3
   },
   "file_extension": ".py",
   "mimetype": "text/x-python",
   "name": "python",
   "nbconvert_exporter": "python",
   "pygments_lexer": "ipython3",
   "version": "3.8.8"
  }
 },
 "nbformat": 4,
 "nbformat_minor": 5
}
