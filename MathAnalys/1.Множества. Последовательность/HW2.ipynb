{
 "cells": [
  {
   "cell_type": "markdown",
   "id": "c758f55d",
   "metadata": {},
   "source": [
    "### Даны 4 последовательности. Необходимо:\n",
    " - исследовать их на монотонность; \n",
    " \n",
    " - исследовать на ограниченность;\n",
    " \n",
    " - найти пятый по счету член.\n"
   ]
  },
  {
   "cell_type": "markdown",
   "id": "aa9cb1e2",
   "metadata": {},
   "source": [
    "<img src=\"123.png\" width=300  />"
   ]
  },
  {
   "cell_type": "markdown",
   "id": "9bad4c84",
   "metadata": {},
   "source": [
    "а) \n",
    "- Монотонность : Монотонно возрастающая,\n",
    "- Предел : $1/2$,\n",
    "- При n=5 : 27"
   ]
  },
  {
   "cell_type": "markdown",
   "id": "c065a37f",
   "metadata": {},
   "source": [
    "b) \n",
    "- Монотонность : Монотонно возрастающая,\n",
    "- Предел : 0,\n",
    "- При n=5 : $-1/4$"
   ]
  },
  {
   "cell_type": "markdown",
   "id": "db3f1c8f",
   "metadata": {},
   "source": [
    "с) \n",
    "- Монотонность : Не монотонная,\n",
    "- Предел : вроде как предела нет ( но получается  +бесконечность+-1)\n",
    "- При n=5 : $\\sqrt{10} - 1$"
   ]
  },
  {
   "cell_type": "markdown",
   "id": "97d990d9",
   "metadata": {},
   "source": [
    "d) \n",
    "- Монотонность : Монотонно убывающая,\n",
    "- Предел : 1\n",
    "- При n=5 : $1 \\cfrac{1}{25}$"
   ]
  },
  {
   "cell_type": "markdown",
   "id": "c89950b3",
   "metadata": {},
   "source": [
    "### 2.\tНайти 12-й член заданной неявно последовательности\n",
    "$$a_1 = 128, a_{n+1} - a_n = 6$$\n"
   ]
  },
  {
   "cell_type": "markdown",
   "id": "460481d4",
   "metadata": {},
   "source": [
    "$a_{12} = 194$"
   ]
  },
  {
   "cell_type": "markdown",
   "id": "c778e277",
   "metadata": {},
   "source": [
    "### 3. На языке Python предложить алгоритм вычисляющий численно предел с точностью $\\varepsilon = 10^{-7}$\n",
    "<img src=\"3.png\" width=100  />"
   ]
  },
  {
   "cell_type": "markdown",
   "id": "ce088744",
   "metadata": {},
   "source": [
    "Тут  мы  просто по определению предела сравниваем эпсилон |$a_n - A$|"
   ]
  },
  {
   "cell_type": "raw",
   "id": "d4d281bf",
   "metadata": {},
   "source": [
    "\n",
    "import math\n",
    "n=1\n",
    "eps=1\n",
    "while eps > 10**-7:\n",
    "    eps =  abs(n/math.factorial(n)**(1/n) - math.exp(1))\n",
    "                      \n",
    "    n+=1\n",
    "    print(f'eps = {eps}, n = {n}')\n",
    "\n",
    "    \n",
    "    "
   ]
  },
  {
   "cell_type": "markdown",
   "id": "e60235a9",
   "metadata": {},
   "source": [
    "#### Как я понял, алогритм улучшения следующий:\n",
    "\n",
    "- выразить связь N от эпсилон, в данном пределе\n",
    "- после чего подставить значение эпсилон, которое нам дано (10**-7)\n",
    "- взять n большее этого числа, это и будет n-ый элемент последовательности c заданной точностью."
   ]
  },
  {
   "cell_type": "markdown",
   "id": "0ba2c628",
   "metadata": {},
   "source": [
    "*Для меня слишком сложно выразить связь в таком пределе. Да и на уроке этого не рассказывали. \n",
    "    "
   ]
  },
  {
   "cell_type": "code",
   "execution_count": null,
   "id": "44ec8406",
   "metadata": {},
   "outputs": [],
   "source": []
  }
 ],
 "metadata": {
  "kernelspec": {
   "display_name": "Python 3",
   "language": "python",
   "name": "python3"
  },
  "language_info": {
   "codemirror_mode": {
    "name": "ipython",
    "version": 3
   },
   "file_extension": ".py",
   "mimetype": "text/x-python",
   "name": "python",
   "nbconvert_exporter": "python",
   "pygments_lexer": "ipython3",
   "version": "3.8.8"
  }
 },
 "nbformat": 4,
 "nbformat_minor": 5
}
