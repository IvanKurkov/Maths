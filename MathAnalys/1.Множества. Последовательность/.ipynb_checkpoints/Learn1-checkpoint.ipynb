{
 "cells": [
  {
   "cell_type": "markdown",
   "id": "5ec0f452",
   "metadata": {},
   "source": [
    "### 1) Как соотносятся понятия “множество” и “последовательность”? (в ответе использовать слова типа: часть, целое, общее, частное, родитель, дочерний субъект и т. д.)\n"
   ]
  },
  {
   "cell_type": "markdown",
   "id": "f1588150",
   "metadata": {},
   "source": [
    "Коротко говоря, множество это совокупность элементов не связанных друг с другом но похожих логически. Последовательность - упорядоченное множество. Т.е. любой элемент множества в последовательности имеет свой порядковый номер. (Например в Питоне, у объекта set - множества, у элементов нет порядкового номера, а в list - есть. Мы можем преоброзовать set в list, таким образом list станет упорядоченным множеством.) Если  мы говорим про Числовую последовательность, то - это упорядоченное множество вещественных чисел, в ней любые 2 элемента должны быть сравнимы по типу больше\\меньше. Также последовательность можно отсортировать."
   ]
  },
  {
   "cell_type": "markdown",
   "id": "ef8bd3b6",
   "metadata": {},
   "source": [
    "### 2) Прочитать высказывания математической логики, построить их отрицания и установить истинность"
   ]
  },
  {
   "cell_type": "markdown",
   "id": "c0c4419f",
   "metadata": {},
   "source": [
    "*a)* $\\forall y \\in [0,1] | sign(y) = 1$"
   ]
  },
  {
   "cell_type": "markdown",
   "id": "e2b4fea1",
   "metadata": {},
   "source": [
    "Для любого y принадлежащем отрезку от 0 включительно, до 1 включительно верно, что  sign(y) = 1"
   ]
  },
  {
   "cell_type": "markdown",
   "id": "7652e13d",
   "metadata": {},
   "source": [
    "Высказывание ложное по определению функции sign(0)\n",
    "\n",
    "Отрицание высказывания: $\\exists y\\in [0,1] | sign(y) \\neq 1$\n",
    "\n",
    "Существует такой y принадлежащий промежутку от 0 вкллючительно до 1 включительно, для которого верно, что sign(y) не равно 1. Т.к. sign(0) не равно 1, то утверждение истинное, а изначальное высказывание ложное.\n",
    "\n",
    "**Ответ:** Высказывание ложное."
   ]
  },
  {
   "cell_type": "markdown",
   "id": "03afd131",
   "metadata": {},
   "source": [
    "*б)* $\\forall n \\in \\mathbb{N} > 2 | \\exists x, y, x \\in \\mathbb{N} | x^n = y^n + z^n$"
   ]
  },
  {
   "cell_type": "markdown",
   "id": "e1449375",
   "metadata": {},
   "source": [
    "Для любых натуральных чисел  n > 2 существуют такие натуральные x,y,z, для которых верно, что x в степени n равно сумме y в степени n и z в степени n."
   ]
  },
  {
   "cell_type": "markdown",
   "id": "b3ab87a8",
   "metadata": {},
   "source": [
    "Высказывание ложное по определению теоремы Ферма, доказавшего отсутствие решений для n=4\n",
    "\n",
    "Отрицание высказывания: $\\exists n \\in \\mathbb{N} > 2 | \\forall x, y, x \\in \\mathbb{N} | x^n \\neq y^n + z^n$\n",
    "\n",
    "Существует натуральное n > 2 для любых натуральных x,y,z, при котором x в степени n не равняется суммне y в степени n и z в степени n.\n",
    "\n",
    "Т.к. по теореме Ферма при n = 4 решений уравнения $x^n = y^n + z^n$ нет, утверждение истинно, а изначальное высказывание ложное. \n",
    "\n",
    "**Ответ:** Высказывание ложное."
   ]
  },
  {
   "cell_type": "markdown",
   "id": "1256d5c7",
   "metadata": {},
   "source": [
    "*в)* $\\forall x \\in \\mathbb{R}  \\exists X \\in \\mathbb{R}| X > x $\n",
    "\n",
    "Для любого вещественного x существует вещественное X которое больше x\n",
    "\n",
    "Отрицание высказывания: $\\exists x \\in \\mathbb{R}  \\forall X \\in \\mathbb{R}| X \\leq x $\n",
    "\n",
    "Существует такое вещественное x для которого любое вещественное Х будет меньше или равно х.\n",
    "\n",
    "Т.к. множество бесконечное, то всегда будет Х больше или меньше чем х. Знаит утверждение ложное, а изначальное высказывание истинно.\n",
    "\n",
    "**Ответ:** Высказывание истинно.\n",
    "\n"
   ]
  },
  {
   "cell_type": "markdown",
   "id": "c321b66e",
   "metadata": {},
   "source": [
    "*д)* $\\forall y \\in [0,\\frac{\\varpi}{2}]  \\exists \\varepsilon > 0 | sin(y) < sin(y+\\varepsilon)$\n",
    "\n",
    "Для  любого y лежащего в промежутке от 0 включительно до Pi/2 включительно существует эпслон больший 0, при котором sin(y) меньше sin(суммы y и эпсилон).\n",
    "\n",
    "Отрицание высказывания: $\\exists y \\in [0,\\frac{\\varpi}{2}] \\forall  \\varepsilon > 0 | sin(y) \\geq sin(y+\\varepsilon)$\n",
    "Существует y в промежутке от 0 включительно до Pi/2 включительно для любого  эпсилон больше 0, при котором sin(y) больше или равно sin(суммы y и эпсилон).\n",
    "\n",
    "\n",
    "На сколько я помню тригонометрию...  \n",
    "Т.к sin(y) функция периодическая, то условие $sin(y) \\geq sin(y+\\varepsilon)$ будет выполняться не для любого эпсилон. Знаит утверждение ложное, а изначальное высказывание истинно.\n",
    "\n",
    "**Ответ:** Высказывание истинно."
   ]
  },
  {
   "cell_type": "markdown",
   "id": "aea1bd88",
   "metadata": {},
   "source": [
    "*е)* $\\forall y \\in [0,\\varpi)  \\exists \\varepsilon > 0 | cos(y) > cos(y+\\varepsilon)$\n",
    "\n",
    "Для  любого y лежащего в промежутке от 0 включительно до Pi исключительно существует эпслон больший 0, при котором cos(y) больше cos(суммы y и эпсилон).\n",
    "\n",
    "Отрицание высказывания: $\\exists y \\in [0,\\varpi) \\forall  \\varepsilon > 0 | cos(y) \\leq cos(y+\\varepsilon)$\n",
    "Существует y в промежутке от 0 включительно до Pi исключительно для любого  эпсилон больше 0, при котором cos(y) меньше или равно cos(суммы y и эпсилон).\n",
    "\n",
    "\n",
    "На сколько я помню тригонометрию... \n",
    "Т.к cos(y) функция периодическая, то условие $cos(y) \\leq cos(y+\\varepsilon)$ будет выполняться не для любого эпсилон. Знаит утверждение ложное, а изначальное высказывание истинно.\n",
    "\n",
    "**Ответ:** Высказывание истинно."
   ]
  },
  {
   "cell_type": "markdown",
   "id": "91430755",
   "metadata": {},
   "source": [
    "*ж)* $\\exists x | x \\notin {\\mathbb{N},\\mathbb{Z},\\mathbb{Q},\\mathbb{R},\\mathbb{C}}$\n",
    "\n",
    "Существует значение x такое, что не лежит ни в одном из множеств N, Z, Q, R, C.\n",
    "\n",
    "Отрицание высказывания:$\\forall x | x \\notin  {\\mathbb{N},\\mathbb{Z},\\mathbb{Q},\\mathbb{R},\\mathbb{C}}$\n",
    "\n",
    "Любой х, не лежит не в одном из множеств N, Z, Q, R, C.\n",
    "\n",
    "Т.к. множество комплексных чисел содержит в себе все остальные множества в качестве подмножеств из чего следует, что любой х будет лежать во множестве комплексных чисел. Значит утверждение истинно, а изначальное высказывание ложное.\n",
    "\n",
    "\n",
    "**Ответ:** Высказывание ложное."
   ]
  },
  {
   "cell_type": "markdown",
   "id": "29e3513a",
   "metadata": {},
   "source": [
    "### 3) Даны три множества a,b и с. Необходимо выполнить все изученные виды бинарных операций над всеми комбинациями множеств.\n",
    "**Выполнить задание на языке Python*\n"
   ]
  },
  {
   "cell_type": "code",
   "execution_count": 14,
   "id": "8fe89817",
   "metadata": {},
   "outputs": [],
   "source": [
    "A = {1,2,3,4,5}\n",
    "B = {2,4,6,8,9}\n",
    "C = {1,3,5,7,2}\n"
   ]
  },
  {
   "cell_type": "markdown",
   "id": "c9666d9b",
   "metadata": {},
   "source": [
    "Объединение"
   ]
  },
  {
   "cell_type": "code",
   "execution_count": 29,
   "id": "aa075f3e",
   "metadata": {},
   "outputs": [
    {
     "name": "stdout",
     "output_type": "stream",
     "text": [
      "{1, 2, 3, 4, 5, 6, 7, 8, 9}\n"
     ]
    }
   ],
   "source": [
    "print(A | B | C) "
   ]
  },
  {
   "cell_type": "code",
   "execution_count": 30,
   "id": "aba27e4b",
   "metadata": {},
   "outputs": [
    {
     "name": "stdout",
     "output_type": "stream",
     "text": [
      "{1, 2, 3, 4, 5, 6, 8, 9}\n"
     ]
    }
   ],
   "source": [
    "print(A | B) "
   ]
  },
  {
   "cell_type": "code",
   "execution_count": 31,
   "id": "2beb644b",
   "metadata": {},
   "outputs": [
    {
     "name": "stdout",
     "output_type": "stream",
     "text": [
      "{1, 2, 3, 4, 5, 7}\n"
     ]
    }
   ],
   "source": [
    "print(A | C)"
   ]
  },
  {
   "cell_type": "code",
   "execution_count": 32,
   "id": "c675d201",
   "metadata": {},
   "outputs": [
    {
     "name": "stdout",
     "output_type": "stream",
     "text": [
      "{1, 2, 3, 4, 5, 6, 7, 8, 9}\n"
     ]
    }
   ],
   "source": [
    "print(B | C)"
   ]
  },
  {
   "cell_type": "markdown",
   "id": "769f83bd",
   "metadata": {},
   "source": [
    "Пересечение"
   ]
  },
  {
   "cell_type": "code",
   "execution_count": 33,
   "id": "c487e886",
   "metadata": {},
   "outputs": [
    {
     "name": "stdout",
     "output_type": "stream",
     "text": [
      "{2}\n"
     ]
    }
   ],
   "source": [
    "print(A & B & C)"
   ]
  },
  {
   "cell_type": "code",
   "execution_count": 34,
   "id": "45ef9f05",
   "metadata": {},
   "outputs": [
    {
     "name": "stdout",
     "output_type": "stream",
     "text": [
      "{2, 4}\n"
     ]
    }
   ],
   "source": [
    "print(A & B) "
   ]
  },
  {
   "cell_type": "code",
   "execution_count": 35,
   "id": "3a3ea84c",
   "metadata": {},
   "outputs": [
    {
     "name": "stdout",
     "output_type": "stream",
     "text": [
      "{2}\n"
     ]
    }
   ],
   "source": [
    "print(B & C)"
   ]
  },
  {
   "cell_type": "code",
   "execution_count": 36,
   "id": "74179b8a",
   "metadata": {},
   "outputs": [
    {
     "name": "stdout",
     "output_type": "stream",
     "text": [
      "{1, 2, 3, 5}\n"
     ]
    }
   ],
   "source": [
    "print(A & C)"
   ]
  },
  {
   "cell_type": "markdown",
   "id": "f300d856",
   "metadata": {},
   "source": [
    "Разность"
   ]
  },
  {
   "cell_type": "code",
   "execution_count": 37,
   "id": "3fe929bd",
   "metadata": {},
   "outputs": [
    {
     "name": "stdout",
     "output_type": "stream",
     "text": [
      "set()\n"
     ]
    }
   ],
   "source": [
    "print(A - B - C)"
   ]
  },
  {
   "cell_type": "code",
   "execution_count": 38,
   "id": "0af00ca2",
   "metadata": {},
   "outputs": [
    {
     "name": "stdout",
     "output_type": "stream",
     "text": [
      "{1, 3, 5}\n"
     ]
    }
   ],
   "source": [
    "print(A - B) "
   ]
  },
  {
   "cell_type": "code",
   "execution_count": 39,
   "id": "39830f0b",
   "metadata": {},
   "outputs": [
    {
     "name": "stdout",
     "output_type": "stream",
     "text": [
      "{4}\n"
     ]
    }
   ],
   "source": [
    "print(A - C)"
   ]
  },
  {
   "cell_type": "code",
   "execution_count": 40,
   "id": "b05c1d9f",
   "metadata": {},
   "outputs": [
    {
     "name": "stdout",
     "output_type": "stream",
     "text": [
      "{8, 9, 4, 6}\n"
     ]
    }
   ],
   "source": [
    "print(B - C)"
   ]
  },
  {
   "cell_type": "markdown",
   "id": "1b1cc3ca",
   "metadata": {},
   "source": [
    "Симметрическая разность"
   ]
  },
  {
   "cell_type": "code",
   "execution_count": 41,
   "id": "1c5ebb25",
   "metadata": {},
   "outputs": [
    {
     "name": "stdout",
     "output_type": "stream",
     "text": [
      "{2, 6, 7, 8, 9}\n"
     ]
    }
   ],
   "source": [
    "print(A ^ B ^ C)"
   ]
  },
  {
   "cell_type": "code",
   "execution_count": 42,
   "id": "33e09592",
   "metadata": {},
   "outputs": [
    {
     "name": "stdout",
     "output_type": "stream",
     "text": [
      "{1, 3, 5, 6, 8, 9}\n"
     ]
    }
   ],
   "source": [
    "print(A ^ B) "
   ]
  },
  {
   "cell_type": "code",
   "execution_count": 43,
   "id": "5535277f",
   "metadata": {},
   "outputs": [
    {
     "name": "stdout",
     "output_type": "stream",
     "text": [
      "{4, 7}\n"
     ]
    }
   ],
   "source": [
    "print(A ^ C)"
   ]
  },
  {
   "cell_type": "code",
   "execution_count": 44,
   "id": "f2cd50c6",
   "metadata": {},
   "outputs": [
    {
     "name": "stdout",
     "output_type": "stream",
     "text": [
      "{1, 3, 4, 5, 6, 7, 8, 9}\n"
     ]
    }
   ],
   "source": [
    "print(B ^ C)"
   ]
  },
  {
   "cell_type": "code",
   "execution_count": null,
   "id": "23c42227",
   "metadata": {},
   "outputs": [],
   "source": []
  },
  {
   "cell_type": "code",
   "execution_count": null,
   "id": "c4b3acd9",
   "metadata": {},
   "outputs": [],
   "source": []
  },
  {
   "cell_type": "code",
   "execution_count": null,
   "id": "8355b674",
   "metadata": {},
   "outputs": [],
   "source": []
  }
 ],
 "metadata": {
  "kernelspec": {
   "display_name": "Python 3",
   "language": "python",
   "name": "python3"
  },
  "language_info": {
   "codemirror_mode": {
    "name": "ipython",
    "version": 3
   },
   "file_extension": ".py",
   "mimetype": "text/x-python",
   "name": "python",
   "nbconvert_exporter": "python",
   "pygments_lexer": "ipython3",
   "version": "3.8.8"
  }
 },
 "nbformat": 4,
 "nbformat_minor": 5
}
