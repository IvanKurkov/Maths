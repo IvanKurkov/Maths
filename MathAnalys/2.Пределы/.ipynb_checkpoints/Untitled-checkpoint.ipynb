{
 "cells": [
  {
   "cell_type": "markdown",
   "id": "ced2a897",
   "metadata": {},
   "source": [
    "### Предложить пример функции, не имеющей предела в нуле и в бесконечностях.\n"
   ]
  },
  {
   "cell_type": "markdown",
   "id": "2238e14c",
   "metadata": {},
   "source": [
    "## $\\frac{e^{x}-1}{x}$"
   ]
  },
  {
   "cell_type": "markdown",
   "id": "5d32bffc",
   "metadata": {},
   "source": [
    "### Привести пример функции, не имеющей предела в точке, но определенной в ней."
   ]
  },
  {
   "cell_type": "markdown",
   "id": "be167470",
   "metadata": {},
   "source": [
    "### $\\sqrt{x}$"
   ]
  },
  {
   "cell_type": "markdown",
   "id": "4c530483",
   "metadata": {},
   "source": [
    "### Исследовать функцию $x^{3}-x^{2}$ по плану:\n",
    "- Область задания и область значений.\n",
    "- Нули функции и их кратность.\n",
    "- Отрезки знакопостоянства.\n",
    "- Интервалы монотонности.\n",
    "- Четность функции.\n",
    "- Ограниченность.\n",
    "- Периодичность.\n"
   ]
  },
  {
   "cell_type": "markdown",
   "id": "13c649cc",
   "metadata": {},
   "source": [
    "- Область значений: (-$ \\infty $ ;  +$ \\infty $ ); - Область определений: (- $ \\infty $ ;  + $ \\infty $ );\n",
    "- x1 = 0, x2 = 1\n",
    "- y > 0 при x $\\in (1; +\\infty)$ ; y < 0 при x $\\in (-\\infty; 0) \\cup (0;1)$ \n",
    "- убывает: (0; 2/3); возрастает (-$\\infty$; 0) $\\cup$ (2/3; +$\\infty$)\n",
    "- Функция не четная\n",
    "- Функция не ограничена ни сверху, ни снизу.\n",
    "- Функция не периодическая. "
   ]
  },
  {
   "cell_type": "markdown",
   "id": "c3ecbdd7",
   "metadata": {},
   "source": [
    "### Найти предел:"
   ]
  },
  {
   "cell_type": "markdown",
   "id": "a26cc316",
   "metadata": {},
   "source": [
    "<img src=\"4.jpg\"  />"
   ]
  },
  {
   "cell_type": "code",
   "execution_count": null,
   "id": "ca254655",
   "metadata": {},
   "outputs": [],
   "source": []
  }
 ],
 "metadata": {
  "kernelspec": {
   "display_name": "Python 3",
   "language": "python",
   "name": "python3"
  },
  "language_info": {
   "codemirror_mode": {
    "name": "ipython",
    "version": 3
   },
   "file_extension": ".py",
   "mimetype": "text/x-python",
   "name": "python",
   "nbconvert_exporter": "python",
   "pygments_lexer": "ipython3",
   "version": "3.8.8"
  }
 },
 "nbformat": 4,
 "nbformat_minor": 5
}
