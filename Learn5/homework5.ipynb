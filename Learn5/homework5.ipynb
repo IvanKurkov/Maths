{
 "cells": [
  {
   "cell_type": "code",
   "execution_count": 92,
   "id": "19a21777",
   "metadata": {},
   "outputs": [],
   "source": [
    "%matplotlib inline\n",
    "import numpy as np\n",
    "import random\n",
    "import matplotlib.pyplot as plt\n",
    "from math import factorial as fact\n",
    "import itertools"
   ]
  },
  {
   "cell_type": "markdown",
   "id": "bfbab032",
   "metadata": {},
   "source": [
    "### 1. Напишите код, моделирующий выпадение поля в рулетке (с учетом поля зеро).\n",
    "\n",
    "*Никогда не играл в рулетку, цвета полей просмотрел в яндекс картинках."
   ]
  },
  {
   "cell_type": "code",
   "execution_count": 28,
   "id": "b776cbad",
   "metadata": {},
   "outputs": [
    {
     "name": "stdout",
     "output_type": "stream",
     "text": [
      "20 - black\n",
      "2 - black\n",
      "2 - black\n",
      "12 - red\n",
      "26 - black\n"
     ]
    }
   ],
   "source": [
    "red = {1,3,5,7,9,12,14,16,18,19,21,23,25,27,30,32,34,36}\n",
    "for i in range(0, 5):\n",
    "    num = random.randint(0, 36)\n",
    "    if num==0:\n",
    "        print(f\"{num} - green\")\n",
    "    elif num in red:\n",
    "        print(f\"{num} - red\")\n",
    "    else:\n",
    "        print(f\"{num} - black\")"
   ]
  },
  {
   "cell_type": "markdown",
   "id": "b1431bbe",
   "metadata": {},
   "source": [
    "### 2. 1 Напишите код, проверяющий любую из теорем сложения или умножения вероятности на примере рулетки или подбрасывания монетки.\n",
    "\n",
    "*Проверим теорему сложения вероятностей подбрасывания монетки.\n",
    "\n"
   ]
  },
  {
   "cell_type": "code",
   "execution_count": 29,
   "id": "7d45751e",
   "metadata": {},
   "outputs": [
    {
     "name": "stdout",
     "output_type": "stream",
     "text": [
      "True\n",
      "1 = 1\n"
     ]
    }
   ],
   "source": [
    "k,m,l = 0, 0, 0\n",
    "n = 50\n",
    "for i in range(0, n):\n",
    "    x = np.random.uniform(0, 10)\n",
    "    l=l+1\n",
    "    if x<5:\n",
    "        k = k + 1 \n",
    "    else:\n",
    "        m = m + 1\n",
    "if k+m==l:\n",
    "    print(True)\n",
    "    print(f\"{int(k*(1/n)+m*(1/n))} = 1\")\n",
    "else:\n",
    "    print(False)\n",
    "    print(f\"{int(k*(1/n)+m*(1/n))} != 1\")\n"
   ]
  },
  {
   "cell_type": "markdown",
   "id": "09a58416",
   "metadata": {},
   "source": [
    "### 2.2 Сгенерируйте десять выборок случайных чисел х0, …, х9, и постройте гистограмму распределения случайной суммы  +х0+ …+ х 9.\n",
    "\n",
    "* Не понятно немного что за случайная сумма. Это сумма векторов или сумма координат каждого вектора. Сделал 2 варианта."
   ]
  },
  {
   "cell_type": "code",
   "execution_count": 53,
   "id": "1c79a34e",
   "metadata": {},
   "outputs": [
    {
     "data": {
      "text/plain": [
       "(array([1., 0., 0., 0., 0., 1., 2., 2., 1., 3.]),\n",
       " array([3.14911206, 3.38976389, 3.63041573, 3.87106756, 4.11171939,\n",
       "        4.35237123, 4.59302306, 4.8336749 , 5.07432673, 5.31497856,\n",
       "        5.5556304 ]),\n",
       " <BarContainer object of 10 artists>)"
      ]
     },
     "execution_count": 53,
     "metadata": {},
     "output_type": "execute_result"
    },
    {
     "data": {
      "image/png": "[encoded data removed]",
      "text/plain": [
       "<Figure size 432x288 with 1 Axes>"
      ]
     },
     "metadata": {
      "needs_background": "light"
     },
     "output_type": "display_data"
    }
   ],
   "source": [
    "n = 10\n",
    "summ = []\n",
    "for i in range(n):\n",
    "    x=np.random.rand(n)\n",
    "    summ.append(np.sum(x))\n",
    "plt.hist(summ, n)"
   ]
  },
  {
   "cell_type": "code",
   "execution_count": 54,
   "id": "3ceeef18",
   "metadata": {},
   "outputs": [
    {
     "data": {
      "text/plain": [
       "(array([2., 0., 2., 2., 1., 1., 1., 0., 0., 1.]),\n",
       " array([3.05516249, 3.48639654, 3.91763059, 4.34886464, 4.78009869,\n",
       "        5.21133275, 5.6425668 , 6.07380085, 6.5050349 , 6.93626895,\n",
       "        7.36750301]),\n",
       " <BarContainer object of 10 artists>)"
      ]
     },
     "execution_count": 54,
     "metadata": {},
     "output_type": "execute_result"
    },
    {
     "data": {
      "image/png": "[encoded data removed]",
      "text/plain": [
       "<Figure size 432x288 with 1 Axes>"
      ]
     },
     "metadata": {
      "needs_background": "light"
     },
     "output_type": "display_data"
    }
   ],
   "source": [
    "n = 10\n",
    "summ = np.zeros(n)\n",
    "for i in range(n):\n",
    "    x=np.random.rand(n)\n",
    "    summ+=x\n",
    "plt.hist(summ, n)"
   ]
  },
  {
   "cell_type": "markdown",
   "id": "077f0191",
   "metadata": {},
   "source": [
    "### 3.1 Дополните код Монте-Карло последовательности независимых испытаний расчетом соответствующих вероятностей (через биномиальное распределение) и сравните результаты.\n",
    "\n"
   ]
  },
  {
   "cell_type": "code",
   "execution_count": 60,
   "id": "74e56477",
   "metadata": {},
   "outputs": [],
   "source": [
    "def P(n,k):\n",
    "    c_ = fact(n)/(fact(k)*fact(n-k))\n",
    "    p_ = c_*(1/2**n)\n",
    "    return p_"
   ]
  },
  {
   "cell_type": "code",
   "execution_count": 88,
   "id": "3d69bc00",
   "metadata": {},
   "outputs": [
    {
     "name": "stdout",
     "output_type": "stream",
     "text": [
      "k = 3780, n = 10000 \n",
      "Точность в данной выборке = 0.378 \n",
      "Точность по формуле Бернули = 0.375\n"
     ]
    }
   ],
   "source": [
    "k, n = 0, 10000\n",
    "a = np.random.randint(0, 2, n)\n",
    "b = np.random.randint(0, 2, n)\n",
    "c = np.random.randint(0, 2, n)\n",
    "d = np.random.randint(0, 2, n)\n",
    "x = a + b + c + d\n",
    "for i in range(0, n):\n",
    "    if x[i] == 2:\n",
    "        k = k + 1\n",
    "print(f\"k = {k}, n = {n} \\nТочность в данной выборке = {k/n} \\nТочность по формуле Бернули = {P(4,2)}\")\n",
    "# Как я понял, мы считаем какая вероятность появления k=2 события в n=4 событиях.\n",
    "\n"
   ]
  },
  {
   "cell_type": "markdown",
   "id": "c414d79d",
   "metadata": {},
   "source": [
    "### 3.2 Повторите расчеты биномиальных коэффициентов и вероятностей k успехов в последовательности из n независимых испытаний, взяв другие значения n и k."
   ]
  },
  {
   "cell_type": "code",
   "execution_count": 89,
   "id": "41a37065",
   "metadata": {},
   "outputs": [
    {
     "name": "stdout",
     "output_type": "stream",
     "text": [
      "k = 2419, n = 10000 \n",
      "Точность в данной выборке = 0.2419 \n",
      "Точность по формуле Бернули = 0.25\n"
     ]
    }
   ],
   "source": [
    "k, n = 0, 10000\n",
    "a = np.random.randint(0, 2, n)\n",
    "b = np.random.randint(0, 2, n)\n",
    "c = np.random.randint(0, 2, n)\n",
    "d = np.random.randint(0, 2, n)\n",
    "x = a + b + c + d\n",
    "for i in range(0, n):\n",
    "    if x[i] == 3:\n",
    "        k = k + 1\n",
    "print(f\"k = {k}, n = {n} \\nТочность в данной выборке = {k/n} \\nТочность по формуле Бернули = {P(4,3)}\")"
   ]
  },
  {
   "cell_type": "code",
   "execution_count": 90,
   "id": "7b1ebea3",
   "metadata": {},
   "outputs": [
    {
     "name": "stdout",
     "output_type": "stream",
     "text": [
      "k = 645, n = 10000 \n",
      "Точность в данной выборке = 0.0645 \n",
      "Точность по формуле Бернули = 0.0625\n"
     ]
    }
   ],
   "source": [
    "k, n = 0, 10000\n",
    "a = np.random.randint(0, 2, n)\n",
    "b = np.random.randint(0, 2, n)\n",
    "c = np.random.randint(0, 2, n)\n",
    "d = np.random.randint(0, 2, n)\n",
    "x = a + b + c + d\n",
    "for i in range(0, n):\n",
    "    if x[i] == 4:\n",
    "        k = k + 1\n",
    "print(f\"k = {k}, n = {n} \\nТочность в данной выборке = {k/n} \\nТочность по формуле Бернули = {P(4,4)}\")"
   ]
  },
  {
   "cell_type": "markdown",
   "id": "50b9d6ba",
   "metadata": {},
   "source": [
    "### 4. (не обязательно, но желательно) Из урока по комбинаторике повторите расчеты, сгенерировав возможные варианты перестановок для других значений n и k\n"
   ]
  },
  {
   "cell_type": "code",
   "execution_count": 93,
   "id": "16e0d87e",
   "metadata": {},
   "outputs": [
    {
     "name": "stdout",
     "output_type": "stream",
     "text": [
      "0000\n",
      "0001\n",
      "0010\n",
      "0011\n",
      "0100\n",
      "0101\n",
      "0110\n",
      "0111\n",
      "1000\n",
      "1001\n",
      "1010\n",
      "1011\n",
      "1100\n",
      "1101\n",
      "1110\n",
      "1111\n"
     ]
    }
   ],
   "source": [
    "for p in itertools.product(\"01\",repeat=4):\n",
    "    print(''.join(p)) "
   ]
  },
  {
   "cell_type": "code",
   "execution_count": 95,
   "id": "495b7658",
   "metadata": {},
   "outputs": [
    {
     "name": "stdout",
     "output_type": "stream",
     "text": [
      "000\n",
      "001\n",
      "002\n",
      "010\n",
      "011\n",
      "012\n",
      "020\n",
      "021\n",
      "022\n",
      "100\n",
      "101\n",
      "102\n",
      "110\n",
      "111\n",
      "112\n",
      "120\n",
      "121\n",
      "122\n",
      "200\n",
      "201\n",
      "202\n",
      "210\n",
      "211\n",
      "212\n",
      "220\n",
      "221\n",
      "222\n"
     ]
    }
   ],
   "source": [
    "for p in itertools.product(\"012\",repeat=3):\n",
    "    print(''.join(p))"
   ]
  },
  {
   "cell_type": "markdown",
   "id": "a116ca01",
   "metadata": {},
   "source": [
    "### 5. (не обязательно) Дополните код расчетом коэффициента корреляции x и y по формуле"
   ]
  },
  {
   "cell_type": "code",
   "execution_count": 150,
   "id": "f14c17d2",
   "metadata": {},
   "outputs": [
    {
     "name": "stdout",
     "output_type": "stream",
     "text": [
      "0.6770040002462517 0.1673820248909895\n",
      "0.6770040002462516 0.16738202489098983\n"
     ]
    },
    {
     "name": "stderr",
     "output_type": "stream",
     "text": [
      "<ipython-input-150-64854c0d3cdb>:14: FutureWarning: `rcond` parameter will change to the default of machine precision times ``max(M, N)`` where M and N are the input matrix dimensions.\n",
      "To use the future default and silence this warning we advise to pass `rcond=None`, to keep using the old, explicitly pass `rcond=-1`.\n",
      "  a1, b1 = np.linalg.lstsq(A, y)[0]\n"
     ]
    },
    {
     "data": {
      "image/png": "[encoded data removed]",
      "text/plain": [
       "<Figure size 432x288 with 1 Axes>"
      ]
     },
     "metadata": {
      "needs_background": "light"
     },
     "output_type": "display_data"
    }
   ],
   "source": [
    "n = 100\n",
    "r = 0.7\n",
    "x = np.random.rand(n)\n",
    "y = r*x + (1 - r)*np.random.rand(n)\n",
    "plt.plot(x, y, 'o')\n",
    "plt.xlabel('x')\n",
    "plt.ylabel('y')\n",
    "plt.grid(True)\n",
    "\n",
    "a = (np.sum(x)*np.sum(y) - n*np.sum(x*y))/(np.sum(x)*np.sum(x) - n*np.sum(x*x))\n",
    "b = (np.sum(y) - a*np.sum(x))/n\n",
    "\n",
    "A = np.vstack([x, np.ones(len(x))]).T\n",
    "a1, b1 = np.linalg.lstsq(A, y)[0]\n",
    "print(a, b)\n",
    "print(a1, b1)\n",
    "\n",
    "plt.plot([0, 1], [b, a + b])\n",
    "plt.show()"
   ]
  },
  {
   "cell_type": "code",
   "execution_count": 151,
   "id": "391bf6ac",
   "metadata": {},
   "outputs": [
    {
     "data": {
      "text/plain": [
       "array([[1.        , 0.90750865],\n",
       "       [0.90750865, 1.        ]])"
      ]
     },
     "execution_count": 151,
     "metadata": {},
     "output_type": "execute_result"
    }
   ],
   "source": [
    "np.corrcoef(x,y)"
   ]
  },
  {
   "cell_type": "code",
   "execution_count": 152,
   "id": "90cfe8d4",
   "metadata": {},
   "outputs": [],
   "source": [
    "r = np.sum((x - np.mean(x))*(y - np.mean(y)))/(np.sum((x - np.mean(x))**2)*np.sum((y - np.mean(y))**2))**0.5"
   ]
  },
  {
   "cell_type": "code",
   "execution_count": 153,
   "id": "66052de0",
   "metadata": {},
   "outputs": [
    {
     "data": {
      "text/plain": [
       "0.9075086493635398"
      ]
     },
     "execution_count": 153,
     "metadata": {},
     "output_type": "execute_result"
    }
   ],
   "source": [
    "r"
   ]
  },
  {
   "cell_type": "code",
   "execution_count": null,
   "id": "1c552113",
   "metadata": {},
   "outputs": [],
   "source": []
  },
  {
   "cell_type": "code",
   "execution_count": null,
   "id": "0c4b6845",
   "metadata": {},
   "outputs": [],
   "source": []
  }
 ],
 "metadata": {
  "kernelspec": {
   "display_name": "Python 3",
   "language": "python",
   "name": "python3"
  },
  "language_info": {
   "codemirror_mode": {
    "name": "ipython",
    "version": 3
   },
   "file_extension": ".py",
   "mimetype": "text/x-python",
   "name": "python",
   "nbconvert_exporter": "python",
   "pygments_lexer": "ipython3",
   "version": "3.8.8"
  }
 },
 "nbformat": 4,
 "nbformat_minor": 5
}
