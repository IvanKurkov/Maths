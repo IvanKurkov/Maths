{
 "cells": [
  {
   "cell_type": "code",
   "execution_count": 1,
   "id": "19a21777",
   "metadata": {},
   "outputs": [],
   "source": [
    "%matplotlib inline\n",
    "import numpy as np\n",
    "import random\n",
    "import matplotlib.pyplot as plt\n",
    "from math import factorial as fact\n",
    "import itertools"
   ]
  },
  {
   "cell_type": "markdown",
   "id": "bfbab032",
   "metadata": {},
   "source": [
    "### 1. Напишите код, моделирующий выпадение поля в рулетке (с учетом поля зеро).\n",
    "\n",
    "*Никогда не играл в рулетку, цвета полей просмотрел в яндекс картинках."
   ]
  },
  {
   "cell_type": "code",
   "execution_count": 2,
   "id": "b776cbad",
   "metadata": {},
   "outputs": [
    {
     "name": "stdout",
     "output_type": "stream",
     "text": [
      "35 - black\n",
      "34 - red\n",
      "10 - black\n",
      "7 - red\n",
      "4 - black\n"
     ]
    }
   ],
   "source": [
    "red = {1,3,5,7,9,12,14,16,18,19,21,23,25,27,30,32,34,36}\n",
    "for i in range(0, 5):\n",
    "    num = random.randint(0, 36)\n",
    "    if num==0:\n",
    "        print(f\"{num} - green\")\n",
    "    elif num in red:\n",
    "        print(f\"{num} - red\")\n",
    "    else:\n",
    "        print(f\"{num} - black\")"
   ]
  },
  {
   "cell_type": "markdown",
   "id": "b1431bbe",
   "metadata": {},
   "source": [
    "### 2. 1 Напишите код, проверяющий любую из теорем сложения или умножения вероятности на примере рулетки или подбрасывания монетки.\n",
    "\n",
    "*Проверим теорему сложения вероятностей подбрасывания монетки.\n",
    "\n"
   ]
  },
  {
   "cell_type": "code",
   "execution_count": 3,
   "id": "7d45751e",
   "metadata": {},
   "outputs": [
    {
     "name": "stdout",
     "output_type": "stream",
     "text": [
      "True\n",
      "1 = 1\n"
     ]
    }
   ],
   "source": [
    "k,m,l = 0, 0, 0\n",
    "n = 50\n",
    "for i in range(0, n):\n",
    "    x = np.random.uniform(0, 10)\n",
    "    l=l+1\n",
    "    if x<5:\n",
    "        k = k + 1 \n",
    "    else:\n",
    "        m = m + 1\n",
    "if k+m==l:\n",
    "    print(True)\n",
    "    print(f\"{int(k*(1/n)+m*(1/n))} = 1\")\n",
    "else:\n",
    "    print(False)\n",
    "    print(f\"{int(k*(1/n)+m*(1/n))} != 1\")\n"
   ]
  },
  {
   "cell_type": "markdown",
   "id": "09a58416",
   "metadata": {},
   "source": [
    "### 2.2 Сгенерируйте десять выборок случайных чисел х0, …, х9, и постройте гистограмму распределения случайной суммы  +х0+ …+ х 9.\n",
    "\n",
    "* Не понятно немного что за случайная сумма. Это сумма векторов или сумма координат каждого вектора. Сделал 2 варианта."
   ]
  },
  {
   "cell_type": "code",
   "execution_count": 4,
   "id": "1c79a34e",
   "metadata": {},
   "outputs": [
    {
     "data": {
      "text/plain": [
       "(array([2., 0., 0., 2., 0., 2., 1., 1., 1., 1.]),\n",
       " array([3.40231489, 3.61166679, 3.8210187 , 4.0303706 , 4.2397225 ,\n",
       "        4.44907441, 4.65842631, 4.86777821, 5.07713012, 5.28648202,\n",
       "        5.49583392]),\n",
       " <BarContainer object of 10 artists>)"
      ]
     },
     "execution_count": 4,
     "metadata": {},
     "output_type": "execute_result"
    },
    {
     "data": {
      "image/png": "[encoded data removed]",
      "text/plain": [
       "<Figure size 432x288 with 1 Axes>"
      ]
     },
     "metadata": {
      "needs_background": "light"
     },
     "output_type": "display_data"
    }
   ],
   "source": [
    "n = 10\n",
    "summ = []\n",
    "for i in range(n):\n",
    "    x=np.random.rand(n)\n",
    "    summ.append(np.sum(x))\n",
    "plt.hist(summ, n)"
   ]
  },
  {
   "cell_type": "code",
   "execution_count": 5,
   "id": "3ceeef18",
   "metadata": {},
   "outputs": [
    {
     "data": {
      "text/plain": [
       "(array([2., 0., 0., 1., 1., 2., 0., 1., 2., 1.]),\n",
       " array([3.31496765, 3.66188698, 4.00880632, 4.35572565, 4.70264498,\n",
       "        5.04956432, 5.39648365, 5.74340298, 6.09032231, 6.43724165,\n",
       "        6.78416098]),\n",
       " <BarContainer object of 10 artists>)"
      ]
     },
     "execution_count": 5,
     "metadata": {},
     "output_type": "execute_result"
    },
    {
     "data": {
      "image/png": "[encoded data removed]",
      "text/plain": [
       "<Figure size 432x288 with 1 Axes>"
      ]
     },
     "metadata": {
      "needs_background": "light"
     },
     "output_type": "display_data"
    }
   ],
   "source": [
    "n = 10\n",
    "summ = np.zeros(n)\n",
    "for i in range(n):\n",
    "    x=np.random.rand(n)\n",
    "    summ+=x\n",
    "plt.hist(summ, n)"
   ]
  },
  {
   "cell_type": "markdown",
   "id": "077f0191",
   "metadata": {},
   "source": [
    "### 3.1 Дополните код Монте-Карло последовательности независимых испытаний расчетом соответствующих вероятностей (через биномиальное распределение) и сравните результаты.\n",
    "\n"
   ]
  },
  {
   "cell_type": "code",
   "execution_count": 6,
   "id": "74e56477",
   "metadata": {},
   "outputs": [],
   "source": [
    "def P(n,k):\n",
    "    c_ = fact(n)/(fact(k)*fact(n-k))\n",
    "    p_ = c_*(1/2**n)\n",
    "    return p_"
   ]
  },
  {
   "cell_type": "code",
   "execution_count": 7,
   "id": "3d69bc00",
   "metadata": {},
   "outputs": [
    {
     "name": "stdout",
     "output_type": "stream",
     "text": [
      "k = 3736, n = 10000 \n",
      "Вероятность в данной выборке = 0.3736 \n",
      "Вероятность по формуле Бернули = 0.375\n"
     ]
    }
   ],
   "source": [
    "k, n = 0, 10000\n",
    "a = np.random.randint(0, 2, n)\n",
    "b = np.random.randint(0, 2, n)\n",
    "c = np.random.randint(0, 2, n)\n",
    "d = np.random.randint(0, 2, n)\n",
    "x = a + b + c + d\n",
    "for i in range(0, n):\n",
    "    if x[i] == 2:\n",
    "        k = k + 1\n",
    "print(f\"k = {k}, n = {n} \\nВероятность в данной выборке = {k/n} \\nВероятность по формуле Бернули = {P(4,2)}\")\n",
    "# Как я понял, мы считаем какая вероятность появления k=2 события в n=4 событиях.\n",
    "\n"
   ]
  },
  {
   "cell_type": "markdown",
   "id": "c414d79d",
   "metadata": {},
   "source": [
    "### 3.2 Повторите расчеты биномиальных коэффициентов и вероятностей k успехов в последовательности из n независимых испытаний, взяв другие значения n и k."
   ]
  },
  {
   "cell_type": "code",
   "execution_count": 8,
   "id": "41a37065",
   "metadata": {},
   "outputs": [
    {
     "name": "stdout",
     "output_type": "stream",
     "text": [
      "k = 2454, n = 10000 \n",
      "Вероятность в данной выборке = 0.2454 \n",
      "Вероятность по формуле Бернули = 0.25\n"
     ]
    }
   ],
   "source": [
    "k, n = 0, 10000\n",
    "a = np.random.randint(0, 2, n)\n",
    "b = np.random.randint(0, 2, n)\n",
    "c = np.random.randint(0, 2, n)\n",
    "d = np.random.randint(0, 2, n)\n",
    "x = a + b + c + d\n",
    "for i in range(0, n):\n",
    "    if x[i] == 3:\n",
    "        k = k + 1\n",
    "print(f\"k = {k}, n = {n} \\nВероятность в данной выборке = {k/n} \\nВероятность по формуле Бернули = {P(4,3)}\")"
   ]
  },
  {
   "cell_type": "code",
   "execution_count": 9,
   "id": "7b1ebea3",
   "metadata": {},
   "outputs": [
    {
     "name": "stdout",
     "output_type": "stream",
     "text": [
      "k = 653, n = 10000 \n",
      "Вероятность в данной выборке = 0.0653 \n",
      "Вероятность по формуле Бернули = 0.0625\n"
     ]
    }
   ],
   "source": [
    "k, n = 0, 10000\n",
    "a = np.random.randint(0, 2, n)\n",
    "b = np.random.randint(0, 2, n)\n",
    "c = np.random.randint(0, 2, n)\n",
    "d = np.random.randint(0, 2, n)\n",
    "x = a + b + c + d\n",
    "for i in range(0, n):\n",
    "    if x[i] == 4:\n",
    "        k = k + 1\n",
    "print(f\"k = {k}, n = {n} \\nВероятность в данной выборке = {k/n} \\nВероятность по формуле Бернули = {P(4,4)}\")"
   ]
  },
  {
   "cell_type": "markdown",
   "id": "50b9d6ba",
   "metadata": {},
   "source": [
    "### 4. (не обязательно, но желательно) Из урока по комбинаторике повторите расчеты, сгенерировав возможные варианты перестановок для других значений n и k\n"
   ]
  },
  {
   "cell_type": "code",
   "execution_count": 10,
   "id": "16e0d87e",
   "metadata": {},
   "outputs": [
    {
     "name": "stdout",
     "output_type": "stream",
     "text": [
      "0000\n",
      "0001\n",
      "0010\n",
      "0011\n",
      "0100\n",
      "0101\n",
      "0110\n",
      "0111\n",
      "1000\n",
      "1001\n",
      "1010\n",
      "1011\n",
      "1100\n",
      "1101\n",
      "1110\n",
      "1111\n"
     ]
    }
   ],
   "source": [
    "for p in itertools.product(\"01\",repeat=4):\n",
    "    print(''.join(p)) "
   ]
  },
  {
   "cell_type": "code",
   "execution_count": 11,
   "id": "495b7658",
   "metadata": {},
   "outputs": [
    {
     "name": "stdout",
     "output_type": "stream",
     "text": [
      "000\n",
      "001\n",
      "002\n",
      "010\n",
      "011\n",
      "012\n",
      "020\n",
      "021\n",
      "022\n",
      "100\n",
      "101\n",
      "102\n",
      "110\n",
      "111\n",
      "112\n",
      "120\n",
      "121\n",
      "122\n",
      "200\n",
      "201\n",
      "202\n",
      "210\n",
      "211\n",
      "212\n",
      "220\n",
      "221\n",
      "222\n"
     ]
    }
   ],
   "source": [
    "for p in itertools.product(\"012\",repeat=3):\n",
    "    print(''.join(p))"
   ]
  },
  {
   "cell_type": "markdown",
   "id": "a116ca01",
   "metadata": {},
   "source": [
    "### 5. (не обязательно) Дополните код расчетом коэффициента корреляции x и y по формуле"
   ]
  },
  {
   "cell_type": "code",
   "execution_count": 12,
   "id": "f14c17d2",
   "metadata": {},
   "outputs": [
    {
     "name": "stdout",
     "output_type": "stream",
     "text": [
      "0.720794444586033 0.1396358277772243\n",
      "0.7207944445860328 0.13963582777722464\n"
     ]
    },
    {
     "name": "stderr",
     "output_type": "stream",
     "text": [
      "<ipython-input-12-64854c0d3cdb>:14: FutureWarning: `rcond` parameter will change to the default of machine precision times ``max(M, N)`` where M and N are the input matrix dimensions.\n",
      "To use the future default and silence this warning we advise to pass `rcond=None`, to keep using the old, explicitly pass `rcond=-1`.\n",
      "  a1, b1 = np.linalg.lstsq(A, y)[0]\n"
     ]
    },
    {
     "data": {
      "image/png": "[encoded data removed]",
      "text/plain": [
       "<Figure size 432x288 with 1 Axes>"
      ]
     },
     "metadata": {
      "needs_background": "light"
     },
     "output_type": "display_data"
    }
   ],
   "source": [
    "n = 100\n",
    "r = 0.7\n",
    "x = np.random.rand(n)\n",
    "y = r*x + (1 - r)*np.random.rand(n)\n",
    "plt.plot(x, y, 'o')\n",
    "plt.xlabel('x')\n",
    "plt.ylabel('y')\n",
    "plt.grid(True)\n",
    "\n",
    "a = (np.sum(x)*np.sum(y) - n*np.sum(x*y))/(np.sum(x)*np.sum(x) - n*np.sum(x*x))\n",
    "b = (np.sum(y) - a*np.sum(x))/n\n",
    "\n",
    "A = np.vstack([x, np.ones(len(x))]).T\n",
    "a1, b1 = np.linalg.lstsq(A, y)[0]\n",
    "print(a, b)\n",
    "print(a1, b1)\n",
    "\n",
    "plt.plot([0, 1], [b, a + b])\n",
    "plt.show()"
   ]
  },
  {
   "cell_type": "code",
   "execution_count": 13,
   "id": "391bf6ac",
   "metadata": {},
   "outputs": [
    {
     "data": {
      "text/plain": [
       "array([[1.        , 0.93156794],\n",
       "       [0.93156794, 1.        ]])"
      ]
     },
     "execution_count": 13,
     "metadata": {},
     "output_type": "execute_result"
    }
   ],
   "source": [
    "np.corrcoef(x,y)"
   ]
  },
  {
   "cell_type": "code",
   "execution_count": 14,
   "id": "90cfe8d4",
   "metadata": {},
   "outputs": [],
   "source": [
    "r = np.sum((x - np.mean(x))*(y - np.mean(y)))/(np.sum((x - np.mean(x))**2)*np.sum((y - np.mean(y))**2))**0.5"
   ]
  },
  {
   "cell_type": "code",
   "execution_count": 15,
   "id": "66052de0",
   "metadata": {},
   "outputs": [
    {
     "data": {
      "text/plain": [
       "0.9315679382707466"
      ]
     },
     "execution_count": 15,
     "metadata": {},
     "output_type": "execute_result"
    }
   ],
   "source": [
    "r"
   ]
  },
  {
   "cell_type": "code",
   "execution_count": null,
   "id": "1c552113",
   "metadata": {},
   "outputs": [],
   "source": []
  },
  {
   "cell_type": "code",
   "execution_count": null,
   "id": "0c4b6845",
   "metadata": {},
   "outputs": [],
   "source": []
  }
 ],
 "metadata": {
  "kernelspec": {
   "display_name": "Python 3",
   "language": "python",
   "name": "python3"
  },
  "language_info": {
   "codemirror_mode": {
    "name": "ipython",
    "version": 3
   },
   "file_extension": ".py",
   "mimetype": "text/x-python",
   "name": "python",
   "nbconvert_exporter": "python",
   "pygments_lexer": "ipython3",
   "version": "3.8.8"
  }
 },
 "nbformat": 4,
 "nbformat_minor": 5
}
